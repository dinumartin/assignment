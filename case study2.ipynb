{
 "cells": [
  {
   "cell_type": "code",
   "execution_count": 8,
   "metadata": {},
   "outputs": [
    {
     "data": {
      "text/plain": [
       "20"
      ]
     },
     "execution_count": 8,
     "metadata": {},
     "output_type": "execute_result"
    }
   ],
   "source": [
    "#Write a Python function to sum all the numbers in a list.\n",
    "def sample_sum (numbers):\n",
    "    total=0\n",
    "    for number in numbers:\n",
    "        total += number\n",
    "    return total\n",
    "my_list=[1,5,2,3,4,5]\n",
    "sample_sum(my_list)\n",
    "\n"
   ]
  },
  {
   "cell_type": "code",
   "execution_count": 1,
   "metadata": {},
   "outputs": [
    {
     "name": "stdout",
     "output_type": "stream",
     "text": [
      "string is palindrome\n"
     ]
    }
   ],
   "source": [
    "#Write a Python function that checks whether a passed string is palindrome or not.\n",
    "def palindrome(string):\n",
    "    string=string.lower()\n",
    "    reversed_string = string[::-1]\n",
    "    if string == reversed_string:\n",
    "        print('string is palindrome')\n",
    "    else:\n",
    "        print('string is not palindrome')\n",
    "        \n",
    "my_string = \"malayalam\"\n",
    "palindrome(my_string)"
   ]
  },
  {
   "cell_type": "code",
   "execution_count": 7,
   "metadata": {},
   "outputs": [
    {
     "name": "stdout",
     "output_type": "stream",
     "text": [
      "Enter the range:40\n",
      "[0, 1, 1, 2, 3, 5, 8, 13, 21, 34, 55, 89, 144, 233, 377, 610, 987, 1597, 2584, 4181, 6765, 10946, 17711, 28657, 46368, 75025, 121393, 196418, 317811, 514229, 832040, 1346269, 2178309, 3524578, 5702887, 9227465, 14930352, 24157817, 39088169, 63245986, 102334155]\n"
     ]
    }
   ],
   "source": [
    "#Write a Python recursive function to find the Fibonacci series. Get the limit from the user\n",
    "def fibonacci_series(limit):\n",
    "    if limit<=1:\n",
    "        return[0,1][:limit+1]\n",
    "    else:\n",
    "        series = fibonacci_series(limit-1)\n",
    "        series.append(series[-1] + series[-2])\n",
    "        return series\n",
    "    \n",
    "my_limit=int(input('Enter the range:'))\n",
    "result = fibonacci_series(my_limit)\n",
    "print(result)\n"
   ]
  },
  {
   "cell_type": "code",
   "execution_count": 19,
   "metadata": {},
   "outputs": [
    {
     "name": "stdout",
     "output_type": "stream",
     "text": [
      "1 * 7 = 7\n",
      "2 * 7 = 14\n",
      "3 * 7 = 21\n",
      "4 * 7 = 28\n",
      "5 * 7 = 35\n",
      "6 * 7 = 42\n",
      "7 * 7 = 49\n",
      "8 * 7 = 56\n",
      "9 * 7 = 63\n",
      "10 * 7 = 70\n"
     ]
    }
   ],
   "source": [
    "#Write a Python recursive function to print the multiplication table of given number\n",
    "def multi_table(num,i=1):\n",
    "    if i>10:\n",
    "        return\n",
    "    print(f'{i} * {num} = {i*num}')\n",
    "    multi_table(num,i+1)\n",
    "multi_table(7)"
   ]
  },
  {
   "cell_type": "code",
   "execution_count": 30,
   "metadata": {},
   "outputs": [
    {
     "name": "stdout",
     "output_type": "stream",
     "text": [
      "(4, 5)\n"
     ]
    }
   ],
   "source": [
    "#Define a function which counts vowels and consonant in a word.\n",
    "def count_vowel_cons(word):\n",
    "    vowels=['a','e','i','o','u']\n",
    "    count_vowel=0\n",
    "    count_cons=0\n",
    "    for char in word:\n",
    "        if char.isalpha():\n",
    "            if char.lower() in vowels:\n",
    "                count_vowel += 1\n",
    "            else:\n",
    "                count_cons += 1\n",
    "    return(count_vowel,count_cons)\n",
    "result=count_vowel_cons(\"malayalam\")\n",
    "print(result)"
   ]
  },
  {
   "cell_type": "code",
   "execution_count": 33,
   "metadata": {},
   "outputs": [
    {
     "name": "stdout",
     "output_type": "stream",
     "text": [
      "HAI HOW ARE YOU?\n"
     ]
    }
   ],
   "source": [
    "#Define a function that accepts lowercase words and returns uppercase words.\n",
    "def lowertoupper(word):\n",
    "    uppercase = word.upper()\n",
    "    return uppercase\n",
    "result=lowertoupper('hai how are you?')\n",
    "print(result)\n"
   ]
  },
  {
   "cell_type": "code",
   "execution_count": 4,
   "metadata": {},
   "outputs": [
    {
     "name": "stdout",
     "output_type": "stream",
     "text": [
      "[1, 2, 3, 4]\n"
     ]
    }
   ],
   "source": [
    "#Write a Python program to remove ‘None’ values from a given list using the lambda function\n",
    "list1 = [12, 0, None, 23, None, -55, 234, 89, None, 0, 6, -12]\n",
    "new_list=list(filter(lambda x:x is not None ,my_list))\n",
    "print(new_list)"
   ]
  },
  {
   "cell_type": "code",
   "execution_count": 60,
   "metadata": {},
   "outputs": [
    {
     "name": "stdout",
     "output_type": "stream",
     "text": [
      "length : 5\n",
      "width : 4\n",
      "perimeter : 18\n",
      "area : 20\n",
      "Area of parallelepiped's base: 50\n",
      "Volume of parallelepiped's base: 100\n",
      "Perimeter of parallelepiped's base: 30\n"
     ]
    }
   ],
   "source": [
    "class rectangle:\n",
    "    def __init__(self,length,width):\n",
    "        self.length=length\n",
    "        self.width=width\n",
    "        \n",
    "    def perimeter (self):\n",
    "        return 2*(self.length + self.width)\n",
    "        \n",
    "    def area(self):\n",
    "        return (self.length * self.width)\n",
    "    \n",
    "    def display(self):\n",
    "        print('length :',self.length)\n",
    "        print('width :',self.width)\n",
    "        print('perimeter :',self.perimeter())\n",
    "        print('area :',self.area())\n",
    "        \n",
    "class Parallelepiped(rectangle):\n",
    "    def __init__(self,length,width,height):\n",
    "        super().__init__(length, width)\n",
    "        self.height = height\n",
    "    \n",
    "    def volume(self):\n",
    "        return self.length*self.width*self.height\n",
    "\n",
    "    \n",
    "\n",
    "y = rectangle(5,4)\n",
    "y.display()\n",
    "\n",
    "parallelepiped = Parallelepiped(5, 10, 2)\n",
    "\n",
    "print(\"Area of parallelepiped's base:\", parallelepiped.area())\n",
    "print(\"Volume of parallelepiped's base:\", parallelepiped.volume())\n",
    "print(\"Perimeter of parallelepiped's base:\", parallelepiped.perimeter())"
   ]
  },
  {
   "cell_type": "code",
   "execution_count": 34,
   "metadata": {},
   "outputs": [
    {
     "name": "stdout",
     "output_type": "stream",
     "text": [
      "length : 5\n",
      "width : 10\n",
      "perimeter : 30\n",
      "area : 50\n",
      "length : 5\n",
      "width : 10\n",
      "perimeter : 30\n",
      "area : 50\n",
      "Volume: 100\n"
     ]
    }
   ],
   "source": [
    "class rectangle:\n",
    "    def __init__(self,length,width):\n",
    "        self.length=length\n",
    "        self.width=width\n",
    "        \n",
    "    def perimeter (self):\n",
    "        return 2*(self.length + self.width)\n",
    "        \n",
    "    def area(self):\n",
    "        return (self.length * self.width)\n",
    "    \n",
    "    def display(self):\n",
    "        print('length :',self.length)\n",
    "        print('width :',self.width)\n",
    "        print('perimeter :',self.perimeter())\n",
    "        print('area :',self.area())\n",
    "        \n",
    "class Parallelepiped(rectangle):\n",
    "    def __init__(self, length, width, height):\n",
    "        super().__init__(length, width)\n",
    "        self.height = height\n",
    "\n",
    "    def Volume(self):\n",
    "        return self.length * self.width * self.height\n",
    "    \n",
    "my_rect = rectangle(5, 10)\n",
    "# display its properties\n",
    "my_rect.display()   \n",
    "my_para = Parallelepiped(5, 10, 2)\n",
    "# display its properties\n",
    "my_para.display()\n",
    "print(\"Volume:\", my_para.Volume())\n"
   ]
  },
  {
   "cell_type": "code",
   "execution_count": 42,
   "metadata": {},
   "outputs": [
    {
     "name": "stdout",
     "output_type": "stream",
     "text": [
      "amount deposited : 0\n",
      "amount withdrawed : 2000\n",
      "Bank fees charged: 1150.0\n",
      "Account Number: 14525587\n",
      "Account Holder Name: dinu\n",
      "Account Balance: 21850.0\n"
     ]
    }
   ],
   "source": [
    "class bankaccount:\n",
    "    def __init__(self,accontnumber,name,balance):\n",
    "        self.accontnumber = accontnumber\n",
    "        self.name = name\n",
    "        self.balance = balance\n",
    "        \n",
    "    def deposit(self,amount):\n",
    "        self.balance += amount\n",
    "        print('amount deposited :',amount)\n",
    "        \n",
    "    def withdrawal(self,amount):\n",
    "        if amount<= self.balance:\n",
    "            self.balance -= amount\n",
    "            print('amount withdrawed :',amount)\n",
    "        else:\n",
    "            print('insufficient balance')\n",
    "            \n",
    "    def bankFees(self):\n",
    "        fees = self.balance*0.05\n",
    "        self.balance -= fees\n",
    "        print(\"Bank fees charged:\", fees)\n",
    "        \n",
    "    def display(self):\n",
    "        print(\"Account Number:\", self.accontnumber)\n",
    "        print(\"Account Holder Name:\", self.name)\n",
    "        print(\"Account Balance:\", self.balance)\n",
    "        \n",
    "p = bankaccount(14525587,'dinu',25000)\n",
    "p.deposit(0)\n",
    "p.withdrawal(2000)\n",
    "p.bankFees()\n",
    "p.display()\n",
    "            "
   ]
  },
  {
   "cell_type": "code",
   "execution_count": 55,
   "metadata": {},
   "outputs": [
    {
     "name": "stdout",
     "output_type": "stream",
     "text": [
      "Area of rectangle: 50\n",
      "Perimeter of rectangle: 30\n",
      "Area of parallelepiped's base: 50\n",
      "Volume of parallelepiped's base: 100\n",
      "Perimeter of parallelepiped's base: 30\n"
     ]
    }
   ],
   "source": [
    "class Rectangle:\n",
    "    def __init__(self,length,breadth):\n",
    "        self.length=length\n",
    "        self.breadth=breadth\n",
    "        \n",
    "    def area(self):\n",
    "        return self.length*self.breadth\n",
    "    \n",
    "    def perimeter(self):\n",
    "        return 2*(self.length+self.breadth)\n",
    "    \n",
    "\n",
    "class Parallelepiped(Rectangle):\n",
    "    def __init__(self,length,breadth,height):\n",
    "        super().__init__(length,breadth)\n",
    "        self.height=height\n",
    "        \n",
    "    def volume(self):\n",
    "        return self.length*self.breadth*self.height\n",
    "    \n",
    "rectangle = Rectangle(5, 10)\n",
    "\n",
    "print(\"Area of rectangle:\", rectangle.area())\n",
    "print(\"Perimeter of rectangle:\", rectangle.perimeter())\n",
    "\n",
    "parallelepiped = Parallelepiped(5, 10, 2)\n",
    "\n",
    "print(\"Area of parallelepiped's base:\", parallelepiped.area())\n",
    "print(\"Volume of parallelepiped's base:\", parallelepiped.volume())\n",
    "print(\"Perimeter of parallelepiped's base:\", parallelepiped.perimeter())       \n",
    "    "
   ]
  },
  {
   "cell_type": "code",
   "execution_count": null,
   "metadata": {},
   "outputs": [],
   "source": []
  },
  {
   "cell_type": "code",
   "execution_count": null,
   "metadata": {},
   "outputs": [],
   "source": []
  }
 ],
 "metadata": {
  "kernelspec": {
   "display_name": "Python 3",
   "language": "python",
   "name": "python3"
  },
  "language_info": {
   "codemirror_mode": {
    "name": "ipython",
    "version": 3
   },
   "file_extension": ".py",
   "mimetype": "text/x-python",
   "name": "python",
   "nbconvert_exporter": "python",
   "pygments_lexer": "ipython3",
   "version": "3.8.5"
  }
 },
 "nbformat": 4,
 "nbformat_minor": 4
}
