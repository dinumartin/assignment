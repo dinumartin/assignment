{
 "cells": [
  {
   "cell_type": "markdown",
   "metadata": {},
   "source": [
    "# A school has following rules for grading system:\n",
    "a. Below 25 - F\n",
    "b. 25 to 45 - E\n",
    "c. 45 to 50 - D\n",
    "d. 50 to 60 - C\n",
    "e. 60 to 80 - B\n",
    "f. Above 80 - A\n",
    "Ask user to enter marks and print the corresponding grade."
   ]
  },
  {
   "cell_type": "code",
   "execution_count": 23,
   "metadata": {},
   "outputs": [
    {
     "name": "stdout",
     "output_type": "stream",
     "text": [
      "Enter the Mark:99\n",
      "Your grade is A\n"
     ]
    }
   ],
   "source": [
    "m=int(input('Enter the Mark:'))\n",
    "if m<25:\n",
    " print('Your grade is F')\n",
    "elif(m<45):\n",
    " print('Your grade is E')\n",
    "elif(m<50):\n",
    " print('Your grade is D')\n",
    "elif(m<60):\n",
    " print('Your grade is C')\n",
    "elif(m<80):\n",
    " print('Your grade is B')\n",
    "else:\n",
    " print('Your grade is A')\n",
    "  "
   ]
  },
  {
   "cell_type": "code",
   "execution_count": null,
   "metadata": {},
   "outputs": [],
   "source": [
    "#You have a list of names. Create a new list which contains only the names with non-repeating characters.\n",
    "#Sample input = [‘John’,’Peter’,’Meera’,’Mini’,’Krishna’]Sample output = [‘John’,Krishna]"
   ]
  },
  {
   "cell_type": "code",
   "execution_count": 39,
   "metadata": {},
   "outputs": [
    {
     "name": "stdout",
     "output_type": "stream",
     "text": [
      "['dinu', 'minu', 'john', 'don']\n"
     ]
    }
   ],
   "source": [
    "name = ['dinu','minu','john','don','john']\n",
    "newlist=[]\n",
    "for i in name:\n",
    "  if i not in newlist:\n",
    "    newlist.append(i)\n",
    "print(newlist)\n"
   ]
  },
  {
   "cell_type": "code",
   "execution_count": null,
   "metadata": {},
   "outputs": [],
   "source": [
    "#Take values of length and breadth of a rectangle from user and check if it is square or not."
   ]
  },
  {
   "cell_type": "code",
   "execution_count": 41,
   "metadata": {},
   "outputs": [
    {
     "name": "stdout",
     "output_type": "stream",
     "text": [
      "Enter the value of length:5\n",
      "Enter the value of breadth:5\n",
      "Its a square\n"
     ]
    }
   ],
   "source": [
    "l=int(input('Enter the value of length:'))\n",
    "b=int(input('Enter the value of breadth:'))\n",
    "if l==b:\n",
    "    print('Its a square')\n",
    "else:\n",
    "    print('Its not square')"
   ]
  },
  {
   "cell_type": "code",
   "execution_count": null,
   "metadata": {},
   "outputs": [],
   "source": [
    "#A student will not be allowed to sit in exam if his/her attendance is less than 75%.\n",
    "Take following input from user Number of classes held Number of classes attended. \n",
    "And print percentage of class attended Is student is allowed to sit in exam or not."
   ]
  },
  {
   "cell_type": "code",
   "execution_count": 42,
   "metadata": {},
   "outputs": [
    {
     "name": "stdout",
     "output_type": "stream",
     "text": [
      "Enter the number of classes held:55\n",
      "Enter the number of classes attended:12\n",
      "percentage of class attended of this student is not allowed to sit in exam.\n"
     ]
    }
   ],
   "source": [
    "nch=int(input('Enter the number of classes held:'))\n",
    "nca=int(input('Enter the number of classes attended:'))\n",
    "per=(nca/nch)*100\n",
    "if per<75:\n",
    "    print('percentage of class attended of this student is not allowed to sit in exam.')\n",
    "else:\n",
    "    print('percentage of class attended of this student is allow to sit in exam.')"
   ]
  },
  {
   "cell_type": "code",
   "execution_count": null,
   "metadata": {},
   "outputs": [],
   "source": [
    "Create a list by taking length of the list and elements of the list from user. Then find the sum of the elements of the list.\n",
    "Also create a new called even list which contains only even numbers from first list and odd list which contains \n",
    "odd numbers from the list.\n",
    "Sample input:\n",
    "Length of the list = 5\n",
    "List1 = [2,6,3,1,5]\n",
    "Sum = 17\n",
    "Even_list=[2,6]\n",
    "Odd_list=[3,1,5]"
   ]
  },
  {
   "cell_type": "code",
   "execution_count": 73,
   "metadata": {},
   "outputs": [
    {
     "name": "stdout",
     "output_type": "stream",
     "text": [
      "Enter the length of the list:5\n",
      "1\n",
      "2\n",
      "4\n",
      "5\n",
      "7\n",
      "[1, 2, 4, 5, 7]\n"
     ]
    },
    {
     "ename": "TypeError",
     "evalue": "'int' object is not callable",
     "output_type": "error",
     "traceback": [
      "\u001b[1;31m---------------------------------------------------------------------------\u001b[0m",
      "\u001b[1;31mTypeError\u001b[0m                                 Traceback (most recent call last)",
      "\u001b[1;32m<ipython-input-73-4dedd4423dc7>\u001b[0m in \u001b[0;36m<module>\u001b[1;34m\u001b[0m\n\u001b[0;32m      7\u001b[0m \u001b[0mprint\u001b[0m\u001b[1;33m(\u001b[0m\u001b[0mlist\u001b[0m\u001b[1;33m)\u001b[0m\u001b[1;33m\u001b[0m\u001b[1;33m\u001b[0m\u001b[0m\n\u001b[0;32m      8\u001b[0m \u001b[1;31m#sum of elements\u001b[0m\u001b[1;33m\u001b[0m\u001b[1;33m\u001b[0m\u001b[1;33m\u001b[0m\u001b[0m\n\u001b[1;32m----> 9\u001b[1;33m \u001b[0mprint\u001b[0m\u001b[1;33m(\u001b[0m\u001b[1;34m\"Sum of elements in given list is :\"\u001b[0m\u001b[1;33m,\u001b[0m \u001b[0msum\u001b[0m\u001b[1;33m(\u001b[0m\u001b[0mlist\u001b[0m\u001b[1;33m)\u001b[0m\u001b[1;33m)\u001b[0m\u001b[1;33m\u001b[0m\u001b[1;33m\u001b[0m\u001b[0m\n\u001b[0m",
      "\u001b[1;31mTypeError\u001b[0m: 'int' object is not callable"
     ]
    }
   ],
   "source": [
    "import math\n",
    "list=[]\n",
    "n=int(input('Enter the length of the list:'))\n",
    "for i in range(0,n):\n",
    "    ele=int(input())\n",
    "    list.append(ele)\n",
    "print(list)\n",
    "#sum of elements\n",
    "print(\"Sum of elements in given list is :\", sum(list))"
   ]
  },
  {
   "cell_type": "code",
   "execution_count": null,
   "metadata": {},
   "outputs": [],
   "source": [
    "#Create a sample chatbot for an ecommerce website."
   ]
  },
  {
   "cell_type": "code",
   "execution_count": null,
   "metadata": {},
   "outputs": [
    {
     "name": "stdout",
     "output_type": "stream",
     "text": [
      "welcome to ickat\n",
      "enter quit to stop\n",
      "\n",
      "\n",
      "please give a valid input\n",
      "enter quit to stop\n",
      "\n",
      "no\n",
      "enter quit to stop\n",
      "\n",
      "good morning\n",
      "good morning\n",
      "enter quit to stop\n",
      "\n",
      "morning\n",
      "good morning\n"
     ]
    }
   ],
   "source": [
    "print('welcome to ickat')\n",
    "while True:\n",
    " x=input('Enter quit to stop:')\n",
    " x=x.lower()\n",
    " if x == 'quit':\n",
    "    print('see you later!')\n",
    "    break\n",
    " y=x.split()\n",
    " if len(y)==0:\n",
    "    print('please give a valid input')\n",
    " elif 'morning' in y:\n",
    "    print('good morning')"
   ]
  },
  {
   "cell_type": "code",
   "execution_count": 3,
   "metadata": {},
   "outputs": [
    {
     "name": "stdout",
     "output_type": "stream",
     "text": [
      "How many terms? 10\n",
      "Fibonacci sequence:\n",
      "0\n",
      "1\n",
      "1\n",
      "2\n",
      "3\n",
      "5\n",
      "8\n",
      "13\n",
      "21\n",
      "34\n"
     ]
    }
   ],
   "source": [
    "# Program to display the Fibonacci sequence up to n-th term\n",
    "\n",
    "n = int(input(\"How many terms? \"))\n",
    "\n",
    "# first two terms\n",
    "n1, n2 = 0, 1\n",
    "count = 0\n",
    "\n",
    "# check if the number of terms is valid\n",
    "if n <= 0:\n",
    "   print(\"Please enter a positive integer\")\n",
    "# if there is only one term, return n1\n",
    "elif n == 1:\n",
    "   print(\"Fibonacci sequence upto\",n,\":\")\n",
    "   print(n1)\n",
    "# generate fibonacci sequence\n",
    "else:\n",
    "   print(\"Fibonacci sequence:\")\n",
    "   while count < n:\n",
    "       print(n1)\n",
    "       nth = n1 + n2\n",
    "       # update values\n",
    "       n1 = n2\n",
    "       n2 = nth\n",
    "       count += 1"
   ]
  },
  {
   "cell_type": "code",
   "execution_count": null,
   "metadata": {},
   "outputs": [],
   "source": []
  }
 ],
 "metadata": {
  "kernelspec": {
   "display_name": "Python 3",
   "language": "python",
   "name": "python3"
  },
  "language_info": {
   "codemirror_mode": {
    "name": "ipython",
    "version": 3
   },
   "file_extension": ".py",
   "mimetype": "text/x-python",
   "name": "python",
   "nbconvert_exporter": "python",
   "pygments_lexer": "ipython3",
   "version": "3.8.5"
  }
 },
 "nbformat": 4,
 "nbformat_minor": 4
}
