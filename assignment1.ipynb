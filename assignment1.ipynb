{
 "cells": [
  {
   "cell_type": "code",
   "execution_count": 3,
   "metadata": {},
   "outputs": [
    {
     "name": "stdout",
     "output_type": "stream",
     "text": [
      "Enter the name:Anisha\n",
      "Enter the roll number:21\n",
      "Enter the mark:78\n",
      "Name: Anisha \n",
      "Roll no: 21 \n",
      "Mark: 78\n"
     ]
    }
   ],
   "source": [
    "#Write a Python Program to accept the details of a student like name, roll number and mark and display it.\n",
    "name =(input('Enter the name:'))\n",
    "rollnumber=int(input('Enter the roll number:'))\n",
    "mark=int(input('Enter the mark:'))\n",
    "print('Name:',name,'\\nRoll no:',rollnumber,'\\nMark:',mark)"
   ]
  },
  {
   "cell_type": "code",
   "execution_count": 1,
   "metadata": {
    "scrolled": true
   },
   "outputs": [
    {
     "name": "stdout",
     "output_type": "stream",
     "text": [
      "Type y if your temperature is in celsius:y\n",
      "Enter the Temperature : 50\n",
      "Temperature in Fahrenheit : 122.0\n"
     ]
    }
   ],
   "source": [
    "#Write a Python program to convert temperatures to and from Celsius Fahrenheit.\n",
    "l=input('Type y if your temperature is in celsius:')\n",
    "t=int(input('Enter the Temperature : '))\n",
    "l=l.lower()\n",
    "if (l=='y'):\n",
    "    f=(t*(9/5)+32)\n",
    "    print('Temperature in Fahrenheit :',f)\n",
    "else:\n",
    "    c=(t-32)*(5/9)\n",
    "    print('Temperature in celsius :',c)"
   ]
  },
  {
   "cell_type": "code",
   "execution_count": 5,
   "metadata": {},
   "outputs": [
    {
     "name": "stdout",
     "output_type": "stream",
     "text": [
      "Enter the first number:44\n",
      "Enter the second number:45\n",
      "product of the numbers: 1980\n"
     ]
    }
   ],
   "source": [
    "#Write a Python program to accept two numbers from the user and display\n",
    "#its product\n",
    "a=int(input('Enter the first number:'))\n",
    "b=int(input('Enter the second number:'))\n",
    "print('product of the numbers:',a*b)"
   ]
  },
  {
   "cell_type": "code",
   "execution_count": 17,
   "metadata": {},
   "outputs": [
    {
     "name": "stdout",
     "output_type": "stream",
     "text": [
      "Enter the radius:1\n",
      "Area of the circle: 3.141592653589793\n"
     ]
    }
   ],
   "source": [
    "#Write a Python program to accept the radius of a circle and display its area.\n",
    "import math\n",
    "r=int(input('Enter the radius:'))\n",
    "A=(math.pi*r*r)\n",
    "print('Area of the circle:',A)"
   ]
  },
  {
   "cell_type": "code",
   "execution_count": 21,
   "metadata": {},
   "outputs": [
    {
     "name": "stdout",
     "output_type": "stream",
     "text": [
      "list = [5, 4, 7, 8, 9]\n",
      "enter the number to insert:5\n",
      "Enter the position:2\n",
      "new list [5, 4, 5, 7, 8, 9]\n"
     ]
    }
   ],
   "source": [
    "#Python program to insert a number to any position in a list\n",
    "lst = [5,4,7,8,9]\n",
    "print(\"list =\",lst)\n",
    "insertitem=int(input('enter the number to insert:'))\n",
    "indexvalue=int(input('Enter the position:'))\n",
    "lst.insert(indexvalue,insertitem)\n",
    "print('new list',lst)"
   ]
  },
  {
   "cell_type": "code",
   "execution_count": 32,
   "metadata": {},
   "outputs": [
    {
     "name": "stdout",
     "output_type": "stream",
     "text": [
      "initial 1st dictionary {'name': 'John', 'age': 5, 'salary': 8000, 'city': 'New York'}\n",
      "{'name': 'John', 'age': 5, 'salary': 8000, 'city': 'Delhi'}\n"
     ]
    }
   ],
   "source": [
    "#7th \n",
    "sample_dict = { \"name\": \"John\", \"age\":5, \"salary\": 8000, \"city\": \"New York\"}\n",
    "print('initial 1st dictionary',sample_dict)\n",
    "sample_dict.update({\"city\":\"Delhi\"})\n",
    "print(sample_dict)\n",
    "\n"
   ]
  },
  {
   "cell_type": "code",
   "execution_count": 36,
   "metadata": {},
   "outputs": [
    {
     "name": "stdout",
     "output_type": "stream",
     "text": [
      "{'emp1': {'name': 'John', 'salary': 7500}, 'emp2': {'name': 'Emma', 'salary': 8000}, 'emp3': {'name': 'Brad', 'salary': 500}}\n",
      "updated dict: {'emp1': {'name': 'John', 'salary': 7500}, 'emp2': {'name': 'Emma', 'salary': 8000}, 'emp3': {'name': 'Brad', 'salary': 8500}}\n"
     ]
    }
   ],
   "source": [
    "#8th\n",
    "sample_dict = {\n",
    "'emp1': {'name': 'John', 'salary': 7500},\n",
    "'emp2': {'name': 'Emma', 'salary': 8000},\n",
    "'emp3': {'name': 'Brad', 'salary': 500}\n",
    "}\n",
    "print(sample_dict)\n",
    "sample_dict.update({'emp3': {'name': 'Brad', 'salary': 8500},})\n",
    "print('updated dict:',sample_dict)"
   ]
  },
  {
   "cell_type": "code",
   "execution_count": 5,
   "metadata": {},
   "outputs": [
    {
     "name": "stdout",
     "output_type": "stream",
     "text": [
      "3\n"
     ]
    }
   ],
   "source": [
    "#Counts the number of occurrences of item 50 from a tuple\n",
    "tuple1 = (50, 10, 60, 70, 50,83,567,50,81)\n",
    "import operator as op\n",
    "print(op.countOf(tuple1,50))"
   ]
  },
  {
   "cell_type": "code",
   "execution_count": null,
   "metadata": {},
   "outputs": [],
   "source": []
  }
 ],
 "metadata": {
  "kernelspec": {
   "display_name": "Python 3",
   "language": "python",
   "name": "python3"
  },
  "language_info": {
   "codemirror_mode": {
    "name": "ipython",
    "version": 3
   },
   "file_extension": ".py",
   "mimetype": "text/x-python",
   "name": "python",
   "nbconvert_exporter": "python",
   "pygments_lexer": "ipython3",
   "version": "3.8.5"
  }
 },
 "nbformat": 4,
 "nbformat_minor": 4
}
